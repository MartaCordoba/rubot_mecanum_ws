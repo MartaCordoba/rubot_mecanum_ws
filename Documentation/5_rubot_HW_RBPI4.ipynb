{
 "metadata": {
  "language_info": {
   "codemirror_mode": {
    "name": "ipython",
    "version": 3
   },
   "file_extension": ".py",
   "mimetype": "text/x-python",
   "name": "python",
   "nbconvert_exporter": "python",
   "pygments_lexer": "ipython3",
   "version": "3.7.5-final"
  },
  "orig_nbformat": 2,
  "kernelspec": {
   "name": "python3",
   "display_name": "Python 3.7.5 64-bit",
   "metadata": {
    "interpreter": {
     "hash": "3e8ba394dfecf69ab3b214a23e7e279956d3407d86cf3cc4fe5cfb6d1f0e6e68"
    }
   }
  }
 },
 "nbformat": 4,
 "nbformat_minor": 2,
 "cells": [
  {
   "source": [
    "# Raspberrypi4 Install\n",
    "\n",
    "We can install the operating systems:\n",
    "- Raspberry Pi OS\n",
    "- Ubuntu 18 server\n",
    "\n",
    "## Install Raspberry Pi OS\n",
    "Follow the steps in order to properly install the Raspberrypi:\n",
    "\n",
    "- Install Raspberry Pi OS using Raspberry Pi Imager (download for windows): https://www.raspberrypi.org/software/\n",
    "- Run the application and save the image:\n",
    "    - Raspbian: (Raspberry pi OS (32-bit)) to the SD card\n",
    "- Insert the SD in a RBPi board and connect it to screen\n",
    "- The system ask you to choose a wifi network and change the timezone, language and password\n",
    "- Reboot and select Raspberry Pi Configuration to activate the SSH and Camera\n",
    "- reboot and open a terminal to obtain the IP address using \"ifconfig\"\n",
    "\n",
    "You are now ready to connect from your Ubuntu Virtual machine using VS Code or a simple terminal"
   ],
   "cell_type": "markdown",
   "metadata": {}
  },
  {
   "source": [
    "<img src=\"./Images/5_rbpi4_imager.png\">"
   ],
   "cell_type": "markdown",
   "metadata": {}
  },
  {
   "source": [
    "Alternativelly you can connect to the RBPi using SSH in a wifi network without the previous configurations using a screen connection if you follow the instructions:\n",
    "\n",
    "- add ssh file (without extension) in the SD in the G:boot directory\n",
    "- add wpa_supplicant.conf file containing different wifi information"
   ],
   "cell_type": "markdown",
   "metadata": {}
  },
  {
   "source": [
    "## Ubuntu 18 server on RaspberryPi4\n",
    "\n",
    "Follow the steps:\n",
    "- Download the image Ubuntu 18 server for Raspberrypi3 (64-bit ARM): https://cdimage.ubuntu.com/releases/18.04/release/\n",
    "- Use Balena Etcher to copy it to a SD card 32GB\n",
    "- connect the RaspberryPi4 with internet cable and insert the SD card\n",
    "- Connect to a Screen and after few minutes press enter\n",
    "- type \"ubuntu\" for login and \"ubuntu\" for password\n",
    "- modify the password\n",
    "- type \"sudo apt update\"\n",
    "- type \"sudo apt upgrade\"\n",
    "- type \"sudo apt-get install ubuntu-desktop\" (or xubuntu-desktop)\n",
    "- type \"sudo reboot\"\n"
   ],
   "cell_type": "markdown",
   "metadata": {}
  },
  {
   "source": [
    "### Win IP Scanner\n",
    "Install IP scanner for windows: https://www.advanced-ip-scanner.com/es/\n",
    "\n",
    "Connect the RBPi to the router and find the IP number"
   ],
   "cell_type": "markdown",
   "metadata": {}
  },
  {
   "source": [
    "### Connection to RBPi from Ubuntu PC\n",
    "The first connection to the RBPi has to be using a Terminal in Virtual Box:\n",
    "\n",
    "- type \"ssh pi@192.168.18.46\" (the default user:pi and pass:raspberry)\n",
    "- When you connect the same RBPi to another network, you have a warning because you have to regenerate the KeyGen of your computer. You have to type (using the proper IP): ssh-keygen -R 192.168.18.46"
   ],
   "cell_type": "markdown",
   "metadata": {}
  },
  {
   "source": [
    "### Remote Desktop \n",
    "This Desktop is available for Windows and MAC users. To configure this remote access:\n",
    "#### In Raspberry Pi OS: VNC\n",
    "\n",
    "- To begin, open up the raspi-config tool by running the following command: sudo raspi-config\n",
    "- Within the configuration tool, use the arrow keys to scroll down to \"2. Display Options\" and \"D1. Resolution\"\n",
    "- Select the desired resolution. Usually DMT Mode 82 1920x1080 60Hz 16:9\n",
    "- Press OK\n",
    "- Within the configuration tool, use the arrow keys to scroll down to \"3. Interface Options\" and \"P1. Camera\" and \"P3. VNC\"\n",
    "- Select VNC enable\n",
    "- Press \"finish\" and \"OK\" and reboot\n",
    "\n",
    "In any OS you will have to:\n",
    "\n",
    "Now in your PC install VNC Viewer: https://www.realvnc.com/es/connect/download/viewer/raspberrypi/\n",
    "\n",
    "You will be able to enter in the raspberrypi4 desktop\n",
    "\n",
    "#### In Ubuntu 18 server: nomachine\n",
    "\n",
    "- Download nomachine in RaspberryPi and PC: \n",
    "    - In raspberryPi (ARMv8 DEB): https://www.nomachine.com/download/linux&id=29&s=Raspberry\n",
    "    - In PC: https://www.nomachine.com/\n",
    "    "
   ],
   "cell_type": "markdown",
   "metadata": {}
  },
  {
   "source": [
    "### Assign a static IP address\n",
    "\n",
    "You need to modify the \"/etc/dhcpcd.conf\" file with the last following lines:"
   ],
   "cell_type": "markdown",
   "metadata": {}
  },
  {
   "cell_type": "code",
   "execution_count": null,
   "metadata": {},
   "outputs": [],
   "source": [
    "interface wlan0\n",
    "static ip_address=192.168.18.200/24\n",
    "static routers=192.168.18.1\n",
    "static domain_name_servers=192.168.18.1"
   ]
  },
  {
   "source": [
    "Carefull!:\n",
    "- select the interface wifi: in my case wlan0\n",
    "- select the router domain in my case is: 192.168.18.15/24 (here the desired static IP is 15) "
   ],
   "cell_type": "markdown",
   "metadata": {}
  },
  {
   "source": [
    "## Install ROS Melodic\n",
    "The installation will be in function of the OS installed on raspberrypi:\n",
    "- Raspbian\n",
    "- Ubuntu18"
   ],
   "cell_type": "markdown",
   "metadata": {}
  },
  {
   "source": [
    "### Raspbian\n",
    "Follow the instructions on the document: Raspbian_ROS_Melodic.txt\n",
    "\n",
    "Refer to the official webpage: http://wiki.ros.org/ROSberryPi/Installing%20ROS%20Melodic%20on%20the%20Raspberry%20Pi"
   ],
   "cell_type": "markdown",
   "metadata": {}
  },
  {
   "source": [
    "### Ubuntu\n",
    "Follow the instructions on: http://wiki.ros.org/melodic/Installation/Ubuntu"
   ],
   "cell_type": "markdown",
   "metadata": {}
  },
  {
   "source": [
    "## Create our workspace\n",
    "\n",
    "We will create the workspace where we will install all needed packages for our Hardware project"
   ],
   "cell_type": "markdown",
   "metadata": {}
  },
  {
   "cell_type": "code",
   "execution_count": null,
   "metadata": {},
   "outputs": [],
   "source": [
    "mkdir -p ~/rubot_ws/src\n",
    "cd ~/rubot_ws/\n",
    "catkin_make\n",
    "echo \"source ~/rubot_ws/devel/setup.bash\" >> ~/.bashrc"
   ]
  },
  {
   "source": [
    "### Install Sensor packages\n",
    "#### 1. Camera RaspberryPi"
   ],
   "cell_type": "markdown",
   "metadata": {}
  },
  {
   "cell_type": "code",
   "execution_count": null,
   "metadata": {},
   "outputs": [],
   "source": [
    "cd ~/rubot_ws/src/\n",
    "mkdir camera\n",
    "cd ~/rubot_ws/src/camera/\n",
    "git clone https://github.com/UbiquityRobotics/raspicam_node.git\n",
    "git clone --single-branch --branch=indigo-devel https://github.com/ros-perception/image_transport_plugins.git\n",
    "git clone --single-branch --branch=melodic https://github.com/ros-perception/vision_opencv.git\n",
    "git clone --single-branch --branch=hydro-devel https://github.com/ros-perception/image_common.git"
   ]
  },
  {
   "source": [
    "#### 2. LIDAR\n",
    "\n",
    "We will install the 2 LIDAR models we have: YD-LIDAR and RP-LIDAR"
   ],
   "cell_type": "markdown",
   "metadata": {}
  },
  {
   "cell_type": "code",
   "execution_count": null,
   "metadata": {},
   "outputs": [],
   "source": [
    "cd ~/rubot_ws/src/\n",
    "mkdir lidar"
   ]
  },
  {
   "source": [
    "##### YD-LIDAR"
   ],
   "cell_type": "markdown",
   "metadata": {}
  },
  {
   "cell_type": "code",
   "execution_count": null,
   "metadata": {},
   "outputs": [],
   "source": [
    "cd ~/rubot_ws/src/lidar/\n",
    "git clone https://github.com/EAIBOT/ydlidar.git"
   ]
  },
  {
   "source": [
    "Plug the LIDAR USB and we want pi and dialout as owner/owner group"
   ],
   "cell_type": "markdown",
   "metadata": {}
  },
  {
   "cell_type": "code",
   "execution_count": null,
   "metadata": {},
   "outputs": [],
   "source": [
    "ls -la /dev/ttyUSB*\n",
    "sudo chown pi:dialout /dev/ttyUSB0\n",
    "roscd ydlidar/startup\n",
    "sudo chmod a+rwx ./*\n",
    "sudo sh initenv.sh"
   ]
  },
  {
   "source": [
    "##### RP-LIDAR"
   ],
   "cell_type": "markdown",
   "metadata": {}
  },
  {
   "cell_type": "code",
   "execution_count": null,
   "metadata": {},
   "outputs": [],
   "source": [
    "cd ~/rubot_ws/src/lidar/\n",
    "git clone https://github.com/Slamtec/rplidar_ros"
   ]
  },
  {
   "source": [
    "#### 4. Mecanum robot\n",
    "\n",
    "This robot will be controlled by an Arduino Mega board.\n",
    "\n",
    "The arduino program will start a serial_node with all the topics"
   ],
   "cell_type": "markdown",
   "metadata": {}
  },
  {
   "cell_type": "code",
   "execution_count": null,
   "metadata": {},
   "outputs": [],
   "source": [
    "git clone https://github.com/ros-gopigo/gopigo3_node\n",
    "git clone --single-branch --branch=kinetic-devel https://github.com/ros-teleop/teleop_tools.git"
   ]
  },
  {
   "source": [
    "## Setup rUBot with sensors\n",
    "We will execute in different terminals:\n",
    "\n",
    "- the rubot_mecanum node for driving control\n",
    "- the ydlidar node\n",
    "- the raspicam node"
   ],
   "cell_type": "markdown",
   "metadata": {}
  },
  {
   "cell_type": "code",
   "execution_count": null,
   "metadata": {},
   "outputs": [],
   "source": [
    "roslaunch mecanum_control rubot_control1.launch\n",
    "roslaunch ydlidar lidar.launch\n",
    "roslaunch raspicam_node camerav2_1280x960_10fps.launch enable_raw:=true camera_frame_id:=\"laser_frame\""
   ]
  },
  {
   "source": [
    "<img src=\"./Images/5_rubot_nodes.png\">"
   ],
   "cell_type": "markdown",
   "metadata": {}
  },
  {
   "cell_type": "code",
   "execution_count": null,
   "metadata": {},
   "outputs": [],
   "source": []
  }
 ]
}