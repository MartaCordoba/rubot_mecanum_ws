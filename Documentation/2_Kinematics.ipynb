{
 "metadata": {
  "language_info": {
   "codemirror_mode": {
    "name": "ipython",
    "version": 3
   },
   "file_extension": ".py",
   "mimetype": "text/x-python",
   "name": "python",
   "nbconvert_exporter": "python",
   "pygments_lexer": "ipython3",
   "version": 3
  },
  "orig_nbformat": 2
 },
 "nbformat": 4,
 "nbformat_minor": 2,
 "cells": [
  {
   "source": [
    "# Basic Kinematics of Mobile Robots\n",
    "\n",
    "The first concept we are going to go through is kinematic models. So, we know what kinematics are, but... what is a model? And what is a kinematic model?\n",
    "\n",
    "What is a model?\n",
    "In mathematics, we understand a model as a simplified, mathematical representation of a real/physical system.\n",
    "\n",
    "So, first of all, a model is a simplification. And what does this mean? This basically means that, when creating a model, we need to simplify or assume certain things. It has to be like this because it's impossible to capture all the complexity of a real/physical system.\n",
    "\n",
    "Also, a model is a mathematical representation. And what does this mean? It means that a model is a set of mathematical equations. These equations are meant to describe the behavior of a real/physical system.\n",
    "\n",
    "However... if a model is a simplification, is it really useful? The answer to his question is, obviously, yes. Despite models not being perfect, they are useful because they will help to cover some aspects of a real/physical systems. For instance, they can help us describe the behavior of a system, or estimate the future behavior of a system.\n",
    "\n",
    "Wheeled mobile robots may be classified in two major categories, holonomic or (omnidirectional) and nonholonomic. Whether a wheeled mobile robot is omnidirectional or not depends in part on the type of wheels it employs. Nonholonomic mobile robots, such as conventional cars, employ conventional wheels, which prevents cars from moving directly sideways.\n",
    "\n",
    "We will define the Kinematic model for:\n",
    "- Non Holonomic Differential Drive robot\n",
    "- Holonomic Mecanum wheeled robot\n"
   ],
   "cell_type": "markdown",
   "metadata": {}
  },
  {
   "source": [
    "## Kinematics for Non-Holonomic Differential Drive robot \n",
    "The differential drive robot is, probably, the most common and most used mobile robot in the current times. A differential drive robot consists of two independently driven wheels that rotate about the same axis, as well as one or more caster wheels, ball casters, or low-friction sliders that keep the robot horizontal. This is the case, for instance, with the robot in this Unit's simulation.\n",
    "\n",
    "For the differential drive system, you are going to need to know 2 parameters:\n",
    "\n",
    "- 𝐿  : The distance between the wheels of the robot, also known as Wheel Base.\n",
    "- 𝑅  : The radius of the wheels of the robot.\n",
    "\n",
    "Luckily, these parameters are relatively easy to measure in any system. On a real robot, you can just measure them with a ruler, for instance. On a simulated robot, you can also extract these values from the URDF file of the robot.\n",
    "\n",
    "Now, for this system, what are going to be the parameters that define its state? Well, as for the Unicycle, the state of the robot is going to be defined by its position (𝑥,𝑦) and its orientation (ϕ). So, again, these are going to be the outputs for our system.\n",
    "\n",
    "But what about the inputs? As you can see from the visual representation above, we now have 2 inputs for our system:\n",
    "\n",
    "- 𝑉𝑟 : Rate at which the right wheel is turning\n",
    "- 𝑉𝑙 : Rate at which the left wheel is turning\n",
    "\n",
    "So now, in order to have the kinematic model of our system, we are going to need a set of equations that connect the inputs of our system with the outputs again.\n",
    "\n",
    "For the differential drive robot, these are the equations:"
   ],
   "cell_type": "markdown",
   "metadata": {}
  },
  {
   "source": [
    "<img src=\"./Images/1_diffDrive1.png\">"
   ],
   "cell_type": "markdown",
   "metadata": {}
  },
  {
   "source": [
    "<img src=\"./Images/1_diffDrive2.png\">"
   ],
   "cell_type": "markdown",
   "metadata": {}
  },
  {
   "source": [
    "# Kinematics for Holonomic Robots\n",
    "\n",
    "In this Unit, you will learn about the kinematics of holonomic robots. Specifically, you will learn about:\n",
    "\n",
    "- Kinematic model of a holonomic robot\n",
    "- Motion with respect to the robot's frame\n",
    "- Motion with respect to the world's frame\n",
    "\n",
    "A kinematic model of a mobile robot governs how wheel speeds map to robot velocities. We assume that the robot rolls on hard, flat, horizontal ground without skidding, and it has a single rigid-body chassis (not articulated like a tractor-trailer) with a configuration  𝑇𝑠𝑏∈𝑆𝐸(2)  representing a chassis-fixed frame {b} relative to a fixed space frame {s} in the horizontal plane.\n",
    "\n",
    "Omnidirectional wheeled mobile robots typically employ either omniwheels or mecanum wheels, which are typical wheels augmented with rollers on their outer circumference. These rollers spin freely and they allow sideways sliding while the wheel drives forward or backward without slip in that direction.\n",
    "\n",
    "Unlike the front wheels in a car, those wheels are not steered, only driven forward or backward. The Neobotix MPO-500 robot is such an holonomic robot thanks to its four omnidirectional mechanum wheels.\n",
    "\n",
    "We represent  𝑇𝑠𝑏  by the three coordinates  𝑞=(𝜙,𝑥,𝑦) , and the velocity of the chassis as the time derivative of the coordinates,  𝑞˙=(𝜙˙,𝑥˙,𝑦˙) . We also define the chassis' planar twist  𝜈𝑏=(𝜔𝑏𝑧,𝑣𝑏𝑥,𝑣𝑏𝑦)  expressed in {b}\n",
    "\n",
    " The kinematic model of the mobile robot with four mecanum wheels is depicted below."
   ],
   "cell_type": "markdown",
   "metadata": {}
  },
  {
   "source": [
    "<img src=\"./Images/1_mecanum1.png\">"
   ],
   "cell_type": "markdown",
   "metadata": {}
  },
  {
   "source": [
    "where\n",
    "\n",
    "- 𝑢  is the vector containing each wheel driving speed,\n",
    "- 𝑟  is the radius of the wheels,\n",
    "- 𝑙  and  𝑤  are the dimensions of the chassis,\n",
    "- 𝛾  (in the figure) is the angle at which free \"sliding\" occurs\n",
    "\n",
    "(see [Lynch & Park, 2017] for a complete derivation of this model).\n",
    "\n",
    "These are the basic motions:\n",
    "\n",
    "-Forward (move in the direction  +x̂ b ): all wheels drive forward at the same speed with positive values.\n",
    "- Backward (move in the direction  −x̂ b ): all wheels drive forward at the same speed with negative values.\n",
    "- Left translation (move in the direction  +ŷb ): wheels 1 and 3 drive backward and wheels 2 and 4 drive forward at the same speed.\n",
    "- Right translation (move in the direction  −ŷb ): wheels 1 and 3 drive forward and wheels 2 and 4 drive backward at the same speed.\n",
    "- Counterclockwise rotation (positive angle around the Z-axis): wheels 1 and 4 drive backward and wheels 2 and 3 drive forward at the same speed.\n",
    "- Clockwise rotation (negative angle around the Z-axis): wheels 1 and 4 drive forward and wheels 2 and 3 drive backward at the same speed.\n",
    "\n",
    "This kinematics is described in the \"libgazebo_ros_control.so\" file and the URDF model will contain the specufic gazebo plugin:"
   ],
   "cell_type": "markdown",
   "metadata": {}
  },
  {
   "cell_type": "code",
   "execution_count": null,
   "metadata": {},
   "outputs": [],
   "source": [
    "<?xml version=\"1.0\"?>\n",
    "<robot>\n",
    "  <!-- Mecanum drive controller -->\n",
    "  <gazebo>\n",
    "    <!--<plugin name=\"gazebo_ros_control\" filename=\"libgazebo_ros_control.so\">\n",
    "      <robotNamespace>/</robotNamespace>\n",
    "    </plugin>-->\n",
    "\n",
    "    <plugin name=\"nexus_ros_force_based_move\" filename=\"libnexus_ros_force_based_move.so\">\n",
    "      <commandTopic>cmd_vel</commandTopic>\n",
    "      <odometryTopic>odom</odometryTopic>\n",
    "      <odometryFrame>odom</odometryFrame>\n",
    "      <odometryRate>25.0</odometryRate>\n",
    "      <robotBaseFrame>base_footprint</robotBaseFrame>\n",
    "      <cmdVelTimeOut>0.25</cmdVelTimeOut>\n",
    "      <publishOdometryTf>0</publishOdometryTf>\n",
    "      <yaw_velocity_p_gain>1.0</yaw_velocity_p_gain>\n",
    "      <x_velocity_p_gain>15.0</x_velocity_p_gain>\n",
    "      <y_velocity_p_gain>15.0</y_velocity_p_gain>\n",
    "      <max_x_velocity>0.6</max_x_velocity>\n",
    "      <max_y_velocity>0.6</max_y_velocity>\n",
    "      <max_yaw_velocity>0.5</max_yaw_velocity>\n",
    "    </plugin>\n",
    "  </gazebo>"
   ]
  }
 ]
}