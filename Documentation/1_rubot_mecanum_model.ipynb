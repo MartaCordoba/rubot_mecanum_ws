{
 "metadata": {
  "language_info": {
   "codemirror_mode": {
    "name": "ipython",
    "version": 3
   },
   "file_extension": ".py",
   "mimetype": "text/x-python",
   "name": "python",
   "nbconvert_exporter": "python",
   "pygments_lexer": "ipython3",
   "version": 3
  },
  "orig_nbformat": 2
 },
 "nbformat": 4,
 "nbformat_minor": 2,
 "cells": [
  {
   "source": [
    "# rubot Mecanum model description"
   ],
   "cell_type": "markdown",
   "metadata": {}
  },
  {
   "source": [
    "Diferent models could be obtained:\n",
    "- Commercial robot nexus robot: https://www.nexusrobot.com/product/4wd-mecanum-wheel-mobile-arduino-robotics-car-10011.html\n",
    "- Custom designed model \n",
    "\n",
    "For a custom model created in SolidWorks, there is an add-in that allows the conversion of SW Parts and Assemblies into a URDF file. The exporter will create a ROS-like package that contains a directory for meshes, textures and robots (urdf files).: http://wiki.ros.org/sw_urdf_exporter\n",
    "\n",
    "For nexus robot there is already a URDF model extracted from: https://github.com/RBinsonB/nexus_4wd_mecanum_simulator\n"
   ],
   "cell_type": "markdown",
   "metadata": {}
  },
  {
   "source": [
    "<img src=\"./Images/1_rubot_mecanum.png\">"
   ],
   "cell_type": "markdown",
   "metadata": {}
  },
  {
   "source": [
    "Run the simulation for one nexus robot by using the following command line:"
   ],
   "cell_type": "markdown",
   "metadata": {}
  },
  {
   "cell_type": "code",
   "execution_count": null,
   "metadata": {},
   "outputs": [],
   "source": [
    "roslaunch nexus_4wd_mecanum_gazebo nexus_4wd_mecanum_world.launch"
   ]
  },
  {
   "source": [
    "<img src=\"./Images/1_rubot_gazebo1.png\">"
   ],
   "cell_type": "markdown",
   "metadata": {}
  },
  {
   "source": [
    "To launch two nexus robots, use the following launch file:"
   ],
   "cell_type": "markdown",
   "metadata": {}
  },
  {
   "cell_type": "code",
   "execution_count": null,
   "metadata": {},
   "outputs": [],
   "source": [
    "roslaunch nexus_4wd_mecanum_gazebo nexus_4wd_mecanum_multi.launch"
   ]
  },
  {
   "source": [
    "<img src=\"./Images/1_rubot_gazebo2.png\">"
   ],
   "cell_type": "markdown",
   "metadata": {}
  },
  {
   "source": [
    "To control the POSE with cmd_vel we can install the package: \n",
    "- For Holonomic movements: http://wiki.ros.org/teleop_twist_keyboard\n",
    "- for non-holonomic movements: http://wiki.ros.org/teleop_tools"
   ],
   "cell_type": "markdown",
   "metadata": {}
  },
  {
   "cell_type": "code",
   "execution_count": null,
   "metadata": {},
   "outputs": [],
   "source": [
    "sudo apt-get install ros-melodic-teleop-tools\n",
    "or\n",
    "sudo apt-get install ros-melodic-teleop-twist-keyboard"
   ]
  },
  {
   "source": [
    "To launch the control:"
   ],
   "cell_type": "markdown",
   "metadata": {}
  },
  {
   "cell_type": "code",
   "execution_count": null,
   "metadata": {},
   "outputs": [],
   "source": [
    "rosrun key_teleop key_teleop.py /key_vel:=/cmd_vel\n",
    "or\n",
    "rosrun teleop_twist_keyboard teleop_twist_keyboard.py"
   ]
  },
  {
   "source": [
    "# rUBot mecanum model\n",
    "This robot includes a:\n",
    "- 2D camera\n",
    "- LIDAR\n",
    "\n",
    "we have added the corresponding links and joints in \"rubot_mecanum.xacro\" file and the gazebo plugins in \"rubot_mecanum.gazebo\" file"
   ],
   "cell_type": "markdown",
   "metadata": {}
  },
  {
   "cell_type": "code",
   "execution_count": null,
   "metadata": {},
   "outputs": [],
   "source": [
    "roslaunch nexus_4wd_mecanum_gazebo rubot_mecanum_world.launch"
   ]
  },
  {
   "cell_type": "code",
   "execution_count": null,
   "metadata": {},
   "outputs": [],
   "source": [
    "roslaunch nexus_4wd_mecanum_description rubot_mecanum_rviz.launch"
   ]
  },
  {
   "source": [
    "<img src=\"./Images/1_rubot_mecanum2.png\">"
   ],
   "cell_type": "markdown",
   "metadata": {}
  },
  {
   "source": [
    "### Plugin for driving control\n",
    "We can choose:\n",
    "- the one designed for Nexus_mecanum robot: libnexus_ros_force_based_move.so\n",
    "- a generic one for holonomic movements: libgazebo_ros_planar_move.so"
   ],
   "cell_type": "markdown",
   "metadata": {}
  },
  {
   "source": [
    "#### Nexus driving controller:\n",
    "This driver is based on a force controlled driver and is custom designed in specific cpp file \"nexus_ros_force_based_move.cpp\" in \"nexus_4wd_mecanum_gazebo\" package.\n",
    "\n",
    "Carefull!\n",
    "\n",
    "Be sure in gazebo plugin, the /odom topic will be published:<publishOdometryTf>true</publishOdometryTf>"
   ],
   "cell_type": "markdown",
   "metadata": {}
  },
  {
   "cell_type": "code",
   "execution_count": null,
   "metadata": {},
   "outputs": [],
   "source": [
    "  <!-- Mecanum drive controller -->\n",
    "  <gazebo>\n",
    "    <!--<plugin name=\"gazebo_ros_control\" filename=\"libgazebo_ros_control.so\">\n",
    "      <robotNamespace>/</robotNamespace>\n",
    "    </plugin>-->\n",
    "\n",
    "    <plugin name=\"nexus_ros_force_based_move\" filename=\"libnexus_ros_force_based_move.so\">\n",
    "      <commandTopic>cmd_vel</commandTopic>\n",
    "      <odometryTopic>odom</odometryTopic>\n",
    "      <odometryFrame>odom</odometryFrame>\n",
    "      <odometryRate>25.0</odometryRate>\n",
    "      <robotBaseFrame>base_footprint</robotBaseFrame>\n",
    "      <cmdVelTimeOut>0.25</cmdVelTimeOut>\n",
    "      <publishOdometryTf>true</publishOdometryTf>\n",
    "      <yaw_velocity_p_gain>1.0</yaw_velocity_p_gain>\n",
    "      <x_velocity_p_gain>15.0</x_velocity_p_gain>\n",
    "      <y_velocity_p_gain>15.0</y_velocity_p_gain>\n",
    "      <max_x_velocity>0.6</max_x_velocity>\n",
    "      <max_y_velocity>0.6</max_y_velocity>\n",
    "      <max_yaw_velocity>0.5</max_yaw_velocity>\n",
    "    </plugin>\n",
    "  </gazebo>"
   ]
  },
  {
   "source": [
    "#### ROS holonomic driving controller:\n",
    "This driver is the \"Planar Move Plugin\" and is described in Gazebo tutorials: http://gazebosim.org/tutorials?tut=ros_gzplugins#AddingaModelPlugin\n"
   ],
   "cell_type": "markdown",
   "metadata": {}
  },
  {
   "source": [
    " <gazebo>\n",
    "    <plugin name=\"Mecanum_controller\" filename=\"libgazebo_ros_planar_move.so\">\n",
    "      <commandTopic>cmd_vel</commandTopic>\n",
    "      <odometryTopic>odom</odometryTopic>\n",
    "      <odometryFrame>odom</odometryFrame>\n",
    "      <odometryRate>50.0</odometryRate>\n",
    "      <robotBaseFrame>base_footprint</robotBaseFrame>\n",
    "    </plugin>\n",
    "  </gazebo>"
   ],
   "cell_type": "code",
   "metadata": {},
   "execution_count": null,
   "outputs": []
  },
  {
   "source": [
    "### Nexus robot control\n",
    "You can test the robot model in Gazebo and rviz to verufy the driving and sensor functionalities:"
   ],
   "cell_type": "markdown",
   "metadata": {}
  },
  {
   "cell_type": "code",
   "execution_count": null,
   "metadata": {},
   "outputs": [],
   "source": [
    "rosrun teleop_twist_keyboard teleop_twist_keyboard.py "
   ]
  }
 ]
}