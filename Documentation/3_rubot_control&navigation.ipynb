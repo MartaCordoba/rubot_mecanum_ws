{
 "metadata": {
  "language_info": {
   "codemirror_mode": {
    "name": "ipython",
    "version": 3
   },
   "file_extension": ".py",
   "mimetype": "text/x-python",
   "name": "python",
   "nbconvert_exporter": "python",
   "pygments_lexer": "ipython3",
   "version": 3
  },
  "orig_nbformat": 2
 },
 "nbformat": 4,
 "nbformat_minor": 2,
 "cells": [
  {
   "source": [
    "# rUBot control & Navigation\n",
    "\n",
    "## rUBot control \n",
    "\n",
    "First of all we want to control the robot using our keyboard or a generic Joystick. \n",
    "The joy package is a ROS driver for a generic Linux joystick. The joy package contains joy_node, a node that interfaces a generic Linux joystick to ROS. This node publishes a \"Joy\" message, which contains the current state of each one of the joystick's buttons and axes.\n",
    "\n",
    "you have to install it from: http://wiki.ros.org/joy\n",
    "\n",
    "Tutorial: http://wiki.ros.org/joy/Tutorials/ConfiguringALinuxJoystick\n",
    "\n",
    "Install the required packages:\n"
   ],
   "cell_type": "markdown",
   "metadata": {}
  },
  {
   "cell_type": "code",
   "execution_count": null,
   "metadata": {},
   "outputs": [],
   "source": [
    "sudo apt-get install ros-melodic-teleop-twist-joy ros-melodic-joy"
   ]
  },
  {
   "source": [
    "To see the port name of joystick (usually js0), you type"
   ],
   "cell_type": "markdown",
   "metadata": {}
  },
  {
   "cell_type": "code",
   "execution_count": null,
   "metadata": {},
   "outputs": [],
   "source": [
    "cd /dev/input\n",
    "ls -l"
   ]
  },
  {
   "source": [
    "Then you type (usually you do not need to specify the device js0 which is he default)"
   ],
   "cell_type": "markdown",
   "metadata": {}
  },
  {
   "cell_type": "code",
   "execution_count": null,
   "metadata": {},
   "outputs": [],
   "source": [
    "rosrun joy joy_node dev:=/dev/input/js0\n",
    "roslaunch teleop_twist_joy teleop_node"
   ]
  },
  {
   "source": [
    "You have now the topic cmd_vel and you can see the output when you press the dead_man buttom (usually A) and the joystick"
   ],
   "cell_type": "markdown",
   "metadata": {}
  },
  {
   "cell_type": "code",
   "execution_count": null,
   "metadata": {},
   "outputs": [],
   "source": [
    "rostopic echo /cmd_vel"
   ]
  },
  {
   "source": [
    "To control the robot with the Keyboard you have to install the \"teleop-tools\" package:"
   ],
   "cell_type": "markdown",
   "metadata": {}
  },
  {
   "cell_type": "code",
   "execution_count": null,
   "metadata": {},
   "outputs": [],
   "source": [
    "sudo apt-get install ros-melodic-teleop-tools"
   ]
  },
  {
   "source": [
    "Then you will be able to control the robot with the Keyboard typing:"
   ],
   "cell_type": "markdown",
   "metadata": {}
  },
  {
   "cell_type": "code",
   "execution_count": null,
   "metadata": {},
   "outputs": [],
   "source": [
    "rosrun key_teleop key_teleop.py /key_vel:=/cmd_vel"
   ]
  },
  {
   "source": [
    "We can test these control devices (keyboard and joypad) when you spawn the rubot in a world environment"
   ],
   "cell_type": "markdown",
   "metadata": {}
  },
  {
   "cell_type": "code",
   "execution_count": null,
   "metadata": {},
   "outputs": [],
   "source": [
    "roslaunch nexus_4wd_mecanum_gazebo rubot_mecanum_world.launch"
   ]
  },
  {
   "source": [
    "Then you can open new terminals to control the rubot with your keyboard or your joypad"
   ],
   "cell_type": "markdown",
   "metadata": {}
  },
  {
   "source": [
    "# Rubot navigation\n",
    "We have created a new package \"mecanum_control\" with dependencies rospy geometry_msgs nav_msgs sensor_msgs std_msgs"
   ],
   "cell_type": "markdown",
   "metadata": {}
  },
  {
   "cell_type": "code",
   "execution_count": null,
   "metadata": {},
   "outputs": [],
   "source": [
    "catkin_create_pkg rubotcoop_control rospy geometry_msgs nav_msgs sensor_msgs std_msgs\n",
    "catkin_make"
   ]
  },
  {
   "source": [
    "Diferent navigation programs are created:\n",
    "- movement control:\n",
    "    - a python file \"rubot_control1.py\" to control the movement linear velocity in x-y direction and angular velocity in z directiron and with a maximum displacement of direction\n",
    "    - a launch file \"rubot_control1.launch\"\n",
    "    - The parameters vx,vy,w and d can be configured in the launch file\n",
    "- Lidar test: to verify the LIDAR readings and angles\n",
    "- Autonomous navigation: using the LIDAR to avoid obstacles"
   ],
   "cell_type": "markdown",
   "metadata": {}
  },
  {
   "source": [
    "movement control:"
   ],
   "cell_type": "markdown",
   "metadata": {}
  },
  {
   "cell_type": "code",
   "execution_count": null,
   "metadata": {},
   "outputs": [],
   "source": [
    "roslaunch rubotcoop_control rubot_control1.launch"
   ]
  },
  {
   "source": [
    "Lidar test:"
   ],
   "cell_type": "markdown",
   "metadata": {}
  },
  {
   "cell_type": "code",
   "execution_count": null,
   "metadata": {},
   "outputs": [],
   "source": [
    "roslaunch rubotcoop_control rubot_lidar_test.launch"
   ]
  },
  {
   "source": [
    "<img src=\"./Images/3_rubot_control1.png\">"
   ],
   "cell_type": "markdown",
   "metadata": {}
  },
  {
   "source": [
    "Autonomous navigationa and obstacle avoidance:"
   ],
   "cell_type": "markdown",
   "metadata": {}
  },
  {
   "cell_type": "code",
   "execution_count": null,
   "metadata": {},
   "outputs": [],
   "source": [
    "roslaunch rubotcoop_control rubot_nav1.launch"
   ]
  },
  {
   "source": [
    "<img src=\"./Images/3_rubot_nav.png\">"
   ],
   "cell_type": "markdown",
   "metadata": {}
  },
  {
   "cell_type": "code",
   "execution_count": null,
   "metadata": {},
   "outputs": [],
   "source": []
  }
 ]
}